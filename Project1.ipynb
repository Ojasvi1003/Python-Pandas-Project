{
 "cells": [
  {
   "cell_type": "code",
   "execution_count": 3,
   "id": "04893e5e-25d9-4718-8d70-a95380f09324",
   "metadata": {},
   "outputs": [],
   "source": [
    "import pandas as pd"
   ]
  },
  {
   "cell_type": "code",
   "execution_count": 4,
   "id": "ff33ef66-79f2-4634-9a9a-c33a8b02a6bc",
   "metadata": {},
   "outputs": [],
   "source": [
    "df=pd.read_csv(r'C:\\Users\\Ojasvi Thakre\\OneDrive\\Desktop\\DA\\Ecommerce Purchases\\Ecommerce Purchases')"
   ]
  },
  {
   "cell_type": "markdown",
   "id": "75e62a8a-22cf-4fb0-bb76-80dd803bfa77",
   "metadata": {},
   "source": [
    "Printing the entire dataset"
   ]
  },
  {
   "cell_type": "code",
   "execution_count": 5,
   "id": "a40148a1-1973-4cfa-bedb-009924106588",
   "metadata": {},
   "outputs": [
    {
     "data": {
      "text/html": [
       "<div>\n",
       "<style scoped>\n",
       "    .dataframe tbody tr th:only-of-type {\n",
       "        vertical-align: middle;\n",
       "    }\n",
       "\n",
       "    .dataframe tbody tr th {\n",
       "        vertical-align: top;\n",
       "    }\n",
       "\n",
       "    .dataframe thead th {\n",
       "        text-align: right;\n",
       "    }\n",
       "</style>\n",
       "<table border=\"1\" class=\"dataframe\">\n",
       "  <thead>\n",
       "    <tr style=\"text-align: right;\">\n",
       "      <th></th>\n",
       "      <th>Address</th>\n",
       "      <th>Lot</th>\n",
       "      <th>AM or PM</th>\n",
       "      <th>Browser Info</th>\n",
       "      <th>Company</th>\n",
       "      <th>Credit Card</th>\n",
       "      <th>CC Exp Date</th>\n",
       "      <th>CC Security Code</th>\n",
       "      <th>CC Provider</th>\n",
       "      <th>Email</th>\n",
       "      <th>Job</th>\n",
       "      <th>IP Address</th>\n",
       "      <th>Language</th>\n",
       "      <th>Purchase Price</th>\n",
       "    </tr>\n",
       "  </thead>\n",
       "  <tbody>\n",
       "    <tr>\n",
       "      <th>0</th>\n",
       "      <td>16629 Pace Camp Apt. 448\\nAlexisborough, NE 77...</td>\n",
       "      <td>46 in</td>\n",
       "      <td>PM</td>\n",
       "      <td>Opera/9.56.(X11; Linux x86_64; sl-SI) Presto/2...</td>\n",
       "      <td>Martinez-Herman</td>\n",
       "      <td>6011929061123406</td>\n",
       "      <td>02/20</td>\n",
       "      <td>900</td>\n",
       "      <td>JCB 16 digit</td>\n",
       "      <td>pdunlap@yahoo.com</td>\n",
       "      <td>Scientist, product/process development</td>\n",
       "      <td>149.146.147.205</td>\n",
       "      <td>el</td>\n",
       "      <td>98.14</td>\n",
       "    </tr>\n",
       "    <tr>\n",
       "      <th>1</th>\n",
       "      <td>9374 Jasmine Spurs Suite 508\\nSouth John, TN 8...</td>\n",
       "      <td>28 rn</td>\n",
       "      <td>PM</td>\n",
       "      <td>Opera/8.93.(Windows 98; Win 9x 4.90; en-US) Pr...</td>\n",
       "      <td>Fletcher, Richards and Whitaker</td>\n",
       "      <td>3337758169645356</td>\n",
       "      <td>11/18</td>\n",
       "      <td>561</td>\n",
       "      <td>Mastercard</td>\n",
       "      <td>anthony41@reed.com</td>\n",
       "      <td>Drilling engineer</td>\n",
       "      <td>15.160.41.51</td>\n",
       "      <td>fr</td>\n",
       "      <td>70.73</td>\n",
       "    </tr>\n",
       "    <tr>\n",
       "      <th>2</th>\n",
       "      <td>Unit 0065 Box 5052\\nDPO AP 27450</td>\n",
       "      <td>94 vE</td>\n",
       "      <td>PM</td>\n",
       "      <td>Mozilla/5.0 (compatible; MSIE 9.0; Windows NT ...</td>\n",
       "      <td>Simpson, Williams and Pham</td>\n",
       "      <td>675957666125</td>\n",
       "      <td>08/19</td>\n",
       "      <td>699</td>\n",
       "      <td>JCB 16 digit</td>\n",
       "      <td>amymiller@morales-harrison.com</td>\n",
       "      <td>Customer service manager</td>\n",
       "      <td>132.207.160.22</td>\n",
       "      <td>de</td>\n",
       "      <td>0.95</td>\n",
       "    </tr>\n",
       "    <tr>\n",
       "      <th>3</th>\n",
       "      <td>7780 Julia Fords\\nNew Stacy, WA 45798</td>\n",
       "      <td>36 vm</td>\n",
       "      <td>PM</td>\n",
       "      <td>Mozilla/5.0 (Macintosh; Intel Mac OS X 10_8_0 ...</td>\n",
       "      <td>Williams, Marshall and Buchanan</td>\n",
       "      <td>6011578504430710</td>\n",
       "      <td>02/24</td>\n",
       "      <td>384</td>\n",
       "      <td>Discover</td>\n",
       "      <td>brent16@olson-robinson.info</td>\n",
       "      <td>Drilling engineer</td>\n",
       "      <td>30.250.74.19</td>\n",
       "      <td>es</td>\n",
       "      <td>78.04</td>\n",
       "    </tr>\n",
       "    <tr>\n",
       "      <th>4</th>\n",
       "      <td>23012 Munoz Drive Suite 337\\nNew Cynthia, TX 5...</td>\n",
       "      <td>20 IE</td>\n",
       "      <td>AM</td>\n",
       "      <td>Opera/9.58.(X11; Linux x86_64; it-IT) Presto/2...</td>\n",
       "      <td>Brown, Watson and Andrews</td>\n",
       "      <td>6011456623207998</td>\n",
       "      <td>10/25</td>\n",
       "      <td>678</td>\n",
       "      <td>Diners Club / Carte Blanche</td>\n",
       "      <td>christopherwright@gmail.com</td>\n",
       "      <td>Fine artist</td>\n",
       "      <td>24.140.33.94</td>\n",
       "      <td>es</td>\n",
       "      <td>77.82</td>\n",
       "    </tr>\n",
       "    <tr>\n",
       "      <th>...</th>\n",
       "      <td>...</td>\n",
       "      <td>...</td>\n",
       "      <td>...</td>\n",
       "      <td>...</td>\n",
       "      <td>...</td>\n",
       "      <td>...</td>\n",
       "      <td>...</td>\n",
       "      <td>...</td>\n",
       "      <td>...</td>\n",
       "      <td>...</td>\n",
       "      <td>...</td>\n",
       "      <td>...</td>\n",
       "      <td>...</td>\n",
       "      <td>...</td>\n",
       "    </tr>\n",
       "    <tr>\n",
       "      <th>9995</th>\n",
       "      <td>966 Castaneda Locks\\nWest Juliafurt, CO 96415</td>\n",
       "      <td>92 XI</td>\n",
       "      <td>PM</td>\n",
       "      <td>Mozilla/5.0 (Windows NT 5.1) AppleWebKit/5352 ...</td>\n",
       "      <td>Randall-Sloan</td>\n",
       "      <td>342945015358701</td>\n",
       "      <td>03/22</td>\n",
       "      <td>838</td>\n",
       "      <td>JCB 15 digit</td>\n",
       "      <td>iscott@wade-garner.com</td>\n",
       "      <td>Printmaker</td>\n",
       "      <td>29.73.197.114</td>\n",
       "      <td>it</td>\n",
       "      <td>82.21</td>\n",
       "    </tr>\n",
       "    <tr>\n",
       "      <th>9996</th>\n",
       "      <td>832 Curtis Dam Suite 785\\nNorth Edwardburgh, T...</td>\n",
       "      <td>41 JY</td>\n",
       "      <td>AM</td>\n",
       "      <td>Mozilla/5.0 (compatible; MSIE 9.0; Windows NT ...</td>\n",
       "      <td>Hale, Collins and Wilson</td>\n",
       "      <td>210033169205009</td>\n",
       "      <td>07/25</td>\n",
       "      <td>207</td>\n",
       "      <td>JCB 16 digit</td>\n",
       "      <td>mary85@hotmail.com</td>\n",
       "      <td>Energy engineer</td>\n",
       "      <td>121.133.168.51</td>\n",
       "      <td>pt</td>\n",
       "      <td>25.63</td>\n",
       "    </tr>\n",
       "    <tr>\n",
       "      <th>9997</th>\n",
       "      <td>Unit 4434 Box 6343\\nDPO AE 28026-0283</td>\n",
       "      <td>74 Zh</td>\n",
       "      <td>AM</td>\n",
       "      <td>Mozilla/5.0 (Macintosh; U; Intel Mac OS X 10_7...</td>\n",
       "      <td>Anderson Ltd</td>\n",
       "      <td>6011539787356311</td>\n",
       "      <td>05/21</td>\n",
       "      <td>1</td>\n",
       "      <td>VISA 16 digit</td>\n",
       "      <td>tyler16@gmail.com</td>\n",
       "      <td>Veterinary surgeon</td>\n",
       "      <td>156.210.0.254</td>\n",
       "      <td>el</td>\n",
       "      <td>83.98</td>\n",
       "    </tr>\n",
       "    <tr>\n",
       "      <th>9998</th>\n",
       "      <td>0096 English Rest\\nRoystad, IA 12457</td>\n",
       "      <td>74 cL</td>\n",
       "      <td>PM</td>\n",
       "      <td>Mozilla/5.0 (Macintosh; Intel Mac OS X 10_8_8;...</td>\n",
       "      <td>Cook Inc</td>\n",
       "      <td>180003348082930</td>\n",
       "      <td>11/17</td>\n",
       "      <td>987</td>\n",
       "      <td>American Express</td>\n",
       "      <td>elizabethmoore@reid.net</td>\n",
       "      <td>Local government officer</td>\n",
       "      <td>55.78.26.143</td>\n",
       "      <td>es</td>\n",
       "      <td>38.84</td>\n",
       "    </tr>\n",
       "    <tr>\n",
       "      <th>9999</th>\n",
       "      <td>40674 Barrett Stravenue\\nGrimesville, WI 79682</td>\n",
       "      <td>64 Hr</td>\n",
       "      <td>AM</td>\n",
       "      <td>Mozilla/5.0 (X11; Linux i686; rv:1.9.5.20) Gec...</td>\n",
       "      <td>Greene Inc</td>\n",
       "      <td>4139972901927273</td>\n",
       "      <td>02/19</td>\n",
       "      <td>302</td>\n",
       "      <td>JCB 15 digit</td>\n",
       "      <td>rachelford@vaughn.com</td>\n",
       "      <td>Embryologist, clinical</td>\n",
       "      <td>176.119.198.199</td>\n",
       "      <td>el</td>\n",
       "      <td>67.59</td>\n",
       "    </tr>\n",
       "  </tbody>\n",
       "</table>\n",
       "<p>10000 rows × 14 columns</p>\n",
       "</div>"
      ],
      "text/plain": [
       "                                                Address    Lot AM or PM  \\\n",
       "0     16629 Pace Camp Apt. 448\\nAlexisborough, NE 77...  46 in       PM   \n",
       "1     9374 Jasmine Spurs Suite 508\\nSouth John, TN 8...  28 rn       PM   \n",
       "2                      Unit 0065 Box 5052\\nDPO AP 27450  94 vE       PM   \n",
       "3                 7780 Julia Fords\\nNew Stacy, WA 45798  36 vm       PM   \n",
       "4     23012 Munoz Drive Suite 337\\nNew Cynthia, TX 5...  20 IE       AM   \n",
       "...                                                 ...    ...      ...   \n",
       "9995      966 Castaneda Locks\\nWest Juliafurt, CO 96415  92 XI       PM   \n",
       "9996  832 Curtis Dam Suite 785\\nNorth Edwardburgh, T...  41 JY       AM   \n",
       "9997              Unit 4434 Box 6343\\nDPO AE 28026-0283  74 Zh       AM   \n",
       "9998               0096 English Rest\\nRoystad, IA 12457  74 cL       PM   \n",
       "9999     40674 Barrett Stravenue\\nGrimesville, WI 79682  64 Hr       AM   \n",
       "\n",
       "                                           Browser Info  \\\n",
       "0     Opera/9.56.(X11; Linux x86_64; sl-SI) Presto/2...   \n",
       "1     Opera/8.93.(Windows 98; Win 9x 4.90; en-US) Pr...   \n",
       "2     Mozilla/5.0 (compatible; MSIE 9.0; Windows NT ...   \n",
       "3     Mozilla/5.0 (Macintosh; Intel Mac OS X 10_8_0 ...   \n",
       "4     Opera/9.58.(X11; Linux x86_64; it-IT) Presto/2...   \n",
       "...                                                 ...   \n",
       "9995  Mozilla/5.0 (Windows NT 5.1) AppleWebKit/5352 ...   \n",
       "9996  Mozilla/5.0 (compatible; MSIE 9.0; Windows NT ...   \n",
       "9997  Mozilla/5.0 (Macintosh; U; Intel Mac OS X 10_7...   \n",
       "9998  Mozilla/5.0 (Macintosh; Intel Mac OS X 10_8_8;...   \n",
       "9999  Mozilla/5.0 (X11; Linux i686; rv:1.9.5.20) Gec...   \n",
       "\n",
       "                              Company       Credit Card CC Exp Date  \\\n",
       "0                     Martinez-Herman  6011929061123406       02/20   \n",
       "1     Fletcher, Richards and Whitaker  3337758169645356       11/18   \n",
       "2          Simpson, Williams and Pham      675957666125       08/19   \n",
       "3     Williams, Marshall and Buchanan  6011578504430710       02/24   \n",
       "4           Brown, Watson and Andrews  6011456623207998       10/25   \n",
       "...                               ...               ...         ...   \n",
       "9995                    Randall-Sloan   342945015358701       03/22   \n",
       "9996         Hale, Collins and Wilson   210033169205009       07/25   \n",
       "9997                     Anderson Ltd  6011539787356311       05/21   \n",
       "9998                         Cook Inc   180003348082930       11/17   \n",
       "9999                       Greene Inc  4139972901927273       02/19   \n",
       "\n",
       "      CC Security Code                  CC Provider  \\\n",
       "0                  900                 JCB 16 digit   \n",
       "1                  561                   Mastercard   \n",
       "2                  699                 JCB 16 digit   \n",
       "3                  384                     Discover   \n",
       "4                  678  Diners Club / Carte Blanche   \n",
       "...                ...                          ...   \n",
       "9995               838                 JCB 15 digit   \n",
       "9996               207                 JCB 16 digit   \n",
       "9997                 1                VISA 16 digit   \n",
       "9998               987             American Express   \n",
       "9999               302                 JCB 15 digit   \n",
       "\n",
       "                               Email                                     Job  \\\n",
       "0                  pdunlap@yahoo.com  Scientist, product/process development   \n",
       "1                 anthony41@reed.com                       Drilling engineer   \n",
       "2     amymiller@morales-harrison.com                Customer service manager   \n",
       "3        brent16@olson-robinson.info                       Drilling engineer   \n",
       "4        christopherwright@gmail.com                             Fine artist   \n",
       "...                              ...                                     ...   \n",
       "9995          iscott@wade-garner.com                              Printmaker   \n",
       "9996              mary85@hotmail.com                         Energy engineer   \n",
       "9997               tyler16@gmail.com                      Veterinary surgeon   \n",
       "9998         elizabethmoore@reid.net                Local government officer   \n",
       "9999           rachelford@vaughn.com                  Embryologist, clinical   \n",
       "\n",
       "           IP Address Language  Purchase Price  \n",
       "0     149.146.147.205       el           98.14  \n",
       "1        15.160.41.51       fr           70.73  \n",
       "2      132.207.160.22       de            0.95  \n",
       "3        30.250.74.19       es           78.04  \n",
       "4        24.140.33.94       es           77.82  \n",
       "...               ...      ...             ...  \n",
       "9995    29.73.197.114       it           82.21  \n",
       "9996   121.133.168.51       pt           25.63  \n",
       "9997    156.210.0.254       el           83.98  \n",
       "9998     55.78.26.143       es           38.84  \n",
       "9999  176.119.198.199       el           67.59  \n",
       "\n",
       "[10000 rows x 14 columns]"
      ]
     },
     "execution_count": 5,
     "metadata": {},
     "output_type": "execute_result"
    }
   ],
   "source": [
    "df"
   ]
  },
  {
   "cell_type": "markdown",
   "id": "24ff94dc-c526-4d2b-afaa-a790b60ba9a6",
   "metadata": {},
   "source": [
    "Display the Top 10 Rows of the dataset"
   ]
  },
  {
   "cell_type": "code",
   "execution_count": 5,
   "id": "e9805972-663a-401e-9418-f674175c93c7",
   "metadata": {},
   "outputs": [
    {
     "data": {
      "text/html": [
       "<div>\n",
       "<style scoped>\n",
       "    .dataframe tbody tr th:only-of-type {\n",
       "        vertical-align: middle;\n",
       "    }\n",
       "\n",
       "    .dataframe tbody tr th {\n",
       "        vertical-align: top;\n",
       "    }\n",
       "\n",
       "    .dataframe thead th {\n",
       "        text-align: right;\n",
       "    }\n",
       "</style>\n",
       "<table border=\"1\" class=\"dataframe\">\n",
       "  <thead>\n",
       "    <tr style=\"text-align: right;\">\n",
       "      <th></th>\n",
       "      <th>Address</th>\n",
       "      <th>Lot</th>\n",
       "      <th>AM or PM</th>\n",
       "      <th>Browser Info</th>\n",
       "      <th>Company</th>\n",
       "      <th>Credit Card</th>\n",
       "      <th>CC Exp Date</th>\n",
       "      <th>CC Security Code</th>\n",
       "      <th>CC Provider</th>\n",
       "      <th>Email</th>\n",
       "      <th>Job</th>\n",
       "      <th>IP Address</th>\n",
       "      <th>Language</th>\n",
       "      <th>Purchase Price</th>\n",
       "    </tr>\n",
       "  </thead>\n",
       "  <tbody>\n",
       "    <tr>\n",
       "      <th>0</th>\n",
       "      <td>16629 Pace Camp Apt. 448\\nAlexisborough, NE 77...</td>\n",
       "      <td>46 in</td>\n",
       "      <td>PM</td>\n",
       "      <td>Opera/9.56.(X11; Linux x86_64; sl-SI) Presto/2...</td>\n",
       "      <td>Martinez-Herman</td>\n",
       "      <td>6011929061123406</td>\n",
       "      <td>02/20</td>\n",
       "      <td>900</td>\n",
       "      <td>JCB 16 digit</td>\n",
       "      <td>pdunlap@yahoo.com</td>\n",
       "      <td>Scientist, product/process development</td>\n",
       "      <td>149.146.147.205</td>\n",
       "      <td>el</td>\n",
       "      <td>98.14</td>\n",
       "    </tr>\n",
       "    <tr>\n",
       "      <th>1</th>\n",
       "      <td>9374 Jasmine Spurs Suite 508\\nSouth John, TN 8...</td>\n",
       "      <td>28 rn</td>\n",
       "      <td>PM</td>\n",
       "      <td>Opera/8.93.(Windows 98; Win 9x 4.90; en-US) Pr...</td>\n",
       "      <td>Fletcher, Richards and Whitaker</td>\n",
       "      <td>3337758169645356</td>\n",
       "      <td>11/18</td>\n",
       "      <td>561</td>\n",
       "      <td>Mastercard</td>\n",
       "      <td>anthony41@reed.com</td>\n",
       "      <td>Drilling engineer</td>\n",
       "      <td>15.160.41.51</td>\n",
       "      <td>fr</td>\n",
       "      <td>70.73</td>\n",
       "    </tr>\n",
       "    <tr>\n",
       "      <th>2</th>\n",
       "      <td>Unit 0065 Box 5052\\nDPO AP 27450</td>\n",
       "      <td>94 vE</td>\n",
       "      <td>PM</td>\n",
       "      <td>Mozilla/5.0 (compatible; MSIE 9.0; Windows NT ...</td>\n",
       "      <td>Simpson, Williams and Pham</td>\n",
       "      <td>675957666125</td>\n",
       "      <td>08/19</td>\n",
       "      <td>699</td>\n",
       "      <td>JCB 16 digit</td>\n",
       "      <td>amymiller@morales-harrison.com</td>\n",
       "      <td>Customer service manager</td>\n",
       "      <td>132.207.160.22</td>\n",
       "      <td>de</td>\n",
       "      <td>0.95</td>\n",
       "    </tr>\n",
       "    <tr>\n",
       "      <th>3</th>\n",
       "      <td>7780 Julia Fords\\nNew Stacy, WA 45798</td>\n",
       "      <td>36 vm</td>\n",
       "      <td>PM</td>\n",
       "      <td>Mozilla/5.0 (Macintosh; Intel Mac OS X 10_8_0 ...</td>\n",
       "      <td>Williams, Marshall and Buchanan</td>\n",
       "      <td>6011578504430710</td>\n",
       "      <td>02/24</td>\n",
       "      <td>384</td>\n",
       "      <td>Discover</td>\n",
       "      <td>brent16@olson-robinson.info</td>\n",
       "      <td>Drilling engineer</td>\n",
       "      <td>30.250.74.19</td>\n",
       "      <td>es</td>\n",
       "      <td>78.04</td>\n",
       "    </tr>\n",
       "    <tr>\n",
       "      <th>4</th>\n",
       "      <td>23012 Munoz Drive Suite 337\\nNew Cynthia, TX 5...</td>\n",
       "      <td>20 IE</td>\n",
       "      <td>AM</td>\n",
       "      <td>Opera/9.58.(X11; Linux x86_64; it-IT) Presto/2...</td>\n",
       "      <td>Brown, Watson and Andrews</td>\n",
       "      <td>6011456623207998</td>\n",
       "      <td>10/25</td>\n",
       "      <td>678</td>\n",
       "      <td>Diners Club / Carte Blanche</td>\n",
       "      <td>christopherwright@gmail.com</td>\n",
       "      <td>Fine artist</td>\n",
       "      <td>24.140.33.94</td>\n",
       "      <td>es</td>\n",
       "      <td>77.82</td>\n",
       "    </tr>\n",
       "    <tr>\n",
       "      <th>5</th>\n",
       "      <td>7502 Powell Mission Apt. 768\\nTravisland, VA 3...</td>\n",
       "      <td>21 XT</td>\n",
       "      <td>PM</td>\n",
       "      <td>Mozilla/5.0 (Macintosh; U; PPC Mac OS X 10_8_5...</td>\n",
       "      <td>Silva-Anderson</td>\n",
       "      <td>30246185196287</td>\n",
       "      <td>07/25</td>\n",
       "      <td>7169</td>\n",
       "      <td>Discover</td>\n",
       "      <td>ynguyen@gmail.com</td>\n",
       "      <td>Fish farm manager</td>\n",
       "      <td>55.96.152.147</td>\n",
       "      <td>ru</td>\n",
       "      <td>25.15</td>\n",
       "    </tr>\n",
       "    <tr>\n",
       "      <th>6</th>\n",
       "      <td>93971 Conway Causeway\\nAndersonburgh, AZ 75107</td>\n",
       "      <td>96 Xt</td>\n",
       "      <td>AM</td>\n",
       "      <td>Mozilla/5.0 (compatible; MSIE 7.0; Windows NT ...</td>\n",
       "      <td>Gibson and Sons</td>\n",
       "      <td>6011398782655569</td>\n",
       "      <td>07/24</td>\n",
       "      <td>714</td>\n",
       "      <td>VISA 16 digit</td>\n",
       "      <td>olivia04@yahoo.com</td>\n",
       "      <td>Dancer</td>\n",
       "      <td>127.252.144.18</td>\n",
       "      <td>de</td>\n",
       "      <td>88.56</td>\n",
       "    </tr>\n",
       "    <tr>\n",
       "      <th>7</th>\n",
       "      <td>260 Rachel Plains Suite 366\\nCastroberg, WV 24...</td>\n",
       "      <td>96 pG</td>\n",
       "      <td>PM</td>\n",
       "      <td>Mozilla/5.0 (X11; Linux i686) AppleWebKit/5350...</td>\n",
       "      <td>Marshall-Collins</td>\n",
       "      <td>561252141909</td>\n",
       "      <td>06/25</td>\n",
       "      <td>256</td>\n",
       "      <td>VISA 13 digit</td>\n",
       "      <td>phillip48@parks.info</td>\n",
       "      <td>Event organiser</td>\n",
       "      <td>224.247.97.150</td>\n",
       "      <td>pt</td>\n",
       "      <td>44.25</td>\n",
       "    </tr>\n",
       "    <tr>\n",
       "      <th>8</th>\n",
       "      <td>2129 Dylan Burg\\nNew Michelle, ME 28650</td>\n",
       "      <td>45 JN</td>\n",
       "      <td>PM</td>\n",
       "      <td>Mozilla/5.0 (Macintosh; U; Intel Mac OS X 10_7...</td>\n",
       "      <td>Galloway and Sons</td>\n",
       "      <td>180041795790001</td>\n",
       "      <td>04/24</td>\n",
       "      <td>899</td>\n",
       "      <td>JCB 16 digit</td>\n",
       "      <td>kdavis@rasmussen.com</td>\n",
       "      <td>Financial manager</td>\n",
       "      <td>146.234.201.229</td>\n",
       "      <td>ru</td>\n",
       "      <td>59.54</td>\n",
       "    </tr>\n",
       "    <tr>\n",
       "      <th>9</th>\n",
       "      <td>3795 Dawson Extensions\\nLake Tinafort, ID 88739</td>\n",
       "      <td>15 Ug</td>\n",
       "      <td>AM</td>\n",
       "      <td>Mozilla/5.0 (X11; Linux i686; rv:1.9.7.20) Gec...</td>\n",
       "      <td>Rivera, Buchanan and Ramirez</td>\n",
       "      <td>4396283918371</td>\n",
       "      <td>01/17</td>\n",
       "      <td>931</td>\n",
       "      <td>American Express</td>\n",
       "      <td>qcoleman@hunt-huerta.com</td>\n",
       "      <td>Forensic scientist</td>\n",
       "      <td>236.198.199.8</td>\n",
       "      <td>zh</td>\n",
       "      <td>95.63</td>\n",
       "    </tr>\n",
       "  </tbody>\n",
       "</table>\n",
       "</div>"
      ],
      "text/plain": [
       "                                             Address    Lot AM or PM  \\\n",
       "0  16629 Pace Camp Apt. 448\\nAlexisborough, NE 77...  46 in       PM   \n",
       "1  9374 Jasmine Spurs Suite 508\\nSouth John, TN 8...  28 rn       PM   \n",
       "2                   Unit 0065 Box 5052\\nDPO AP 27450  94 vE       PM   \n",
       "3              7780 Julia Fords\\nNew Stacy, WA 45798  36 vm       PM   \n",
       "4  23012 Munoz Drive Suite 337\\nNew Cynthia, TX 5...  20 IE       AM   \n",
       "5  7502 Powell Mission Apt. 768\\nTravisland, VA 3...  21 XT       PM   \n",
       "6     93971 Conway Causeway\\nAndersonburgh, AZ 75107  96 Xt       AM   \n",
       "7  260 Rachel Plains Suite 366\\nCastroberg, WV 24...  96 pG       PM   \n",
       "8            2129 Dylan Burg\\nNew Michelle, ME 28650  45 JN       PM   \n",
       "9    3795 Dawson Extensions\\nLake Tinafort, ID 88739  15 Ug       AM   \n",
       "\n",
       "                                        Browser Info  \\\n",
       "0  Opera/9.56.(X11; Linux x86_64; sl-SI) Presto/2...   \n",
       "1  Opera/8.93.(Windows 98; Win 9x 4.90; en-US) Pr...   \n",
       "2  Mozilla/5.0 (compatible; MSIE 9.0; Windows NT ...   \n",
       "3  Mozilla/5.0 (Macintosh; Intel Mac OS X 10_8_0 ...   \n",
       "4  Opera/9.58.(X11; Linux x86_64; it-IT) Presto/2...   \n",
       "5  Mozilla/5.0 (Macintosh; U; PPC Mac OS X 10_8_5...   \n",
       "6  Mozilla/5.0 (compatible; MSIE 7.0; Windows NT ...   \n",
       "7  Mozilla/5.0 (X11; Linux i686) AppleWebKit/5350...   \n",
       "8  Mozilla/5.0 (Macintosh; U; Intel Mac OS X 10_7...   \n",
       "9  Mozilla/5.0 (X11; Linux i686; rv:1.9.7.20) Gec...   \n",
       "\n",
       "                           Company       Credit Card CC Exp Date  \\\n",
       "0                  Martinez-Herman  6011929061123406       02/20   \n",
       "1  Fletcher, Richards and Whitaker  3337758169645356       11/18   \n",
       "2       Simpson, Williams and Pham      675957666125       08/19   \n",
       "3  Williams, Marshall and Buchanan  6011578504430710       02/24   \n",
       "4        Brown, Watson and Andrews  6011456623207998       10/25   \n",
       "5                   Silva-Anderson    30246185196287       07/25   \n",
       "6                  Gibson and Sons  6011398782655569       07/24   \n",
       "7                 Marshall-Collins      561252141909       06/25   \n",
       "8                Galloway and Sons   180041795790001       04/24   \n",
       "9     Rivera, Buchanan and Ramirez     4396283918371       01/17   \n",
       "\n",
       "   CC Security Code                  CC Provider  \\\n",
       "0               900                 JCB 16 digit   \n",
       "1               561                   Mastercard   \n",
       "2               699                 JCB 16 digit   \n",
       "3               384                     Discover   \n",
       "4               678  Diners Club / Carte Blanche   \n",
       "5              7169                     Discover   \n",
       "6               714                VISA 16 digit   \n",
       "7               256                VISA 13 digit   \n",
       "8               899                 JCB 16 digit   \n",
       "9               931             American Express   \n",
       "\n",
       "                            Email                                     Job  \\\n",
       "0               pdunlap@yahoo.com  Scientist, product/process development   \n",
       "1              anthony41@reed.com                       Drilling engineer   \n",
       "2  amymiller@morales-harrison.com                Customer service manager   \n",
       "3     brent16@olson-robinson.info                       Drilling engineer   \n",
       "4     christopherwright@gmail.com                             Fine artist   \n",
       "5               ynguyen@gmail.com                       Fish farm manager   \n",
       "6              olivia04@yahoo.com                                  Dancer   \n",
       "7            phillip48@parks.info                         Event organiser   \n",
       "8            kdavis@rasmussen.com                       Financial manager   \n",
       "9        qcoleman@hunt-huerta.com                      Forensic scientist   \n",
       "\n",
       "        IP Address Language  Purchase Price  \n",
       "0  149.146.147.205       el           98.14  \n",
       "1     15.160.41.51       fr           70.73  \n",
       "2   132.207.160.22       de            0.95  \n",
       "3     30.250.74.19       es           78.04  \n",
       "4     24.140.33.94       es           77.82  \n",
       "5    55.96.152.147       ru           25.15  \n",
       "6   127.252.144.18       de           88.56  \n",
       "7   224.247.97.150       pt           44.25  \n",
       "8  146.234.201.229       ru           59.54  \n",
       "9    236.198.199.8       zh           95.63  "
      ]
     },
     "execution_count": 5,
     "metadata": {},
     "output_type": "execute_result"
    }
   ],
   "source": [
    "df.head(10)"
   ]
  },
  {
   "cell_type": "markdown",
   "id": "dd10d1ba-e92c-4e02-8e98-c0fcdeb439f7",
   "metadata": {},
   "source": [
    "Display the bottom 10 Rows of the dataset"
   ]
  },
  {
   "cell_type": "code",
   "execution_count": 6,
   "id": "84e60564-1720-4e17-a3f1-f2af2542ac59",
   "metadata": {},
   "outputs": [
    {
     "data": {
      "text/html": [
       "<div>\n",
       "<style scoped>\n",
       "    .dataframe tbody tr th:only-of-type {\n",
       "        vertical-align: middle;\n",
       "    }\n",
       "\n",
       "    .dataframe tbody tr th {\n",
       "        vertical-align: top;\n",
       "    }\n",
       "\n",
       "    .dataframe thead th {\n",
       "        text-align: right;\n",
       "    }\n",
       "</style>\n",
       "<table border=\"1\" class=\"dataframe\">\n",
       "  <thead>\n",
       "    <tr style=\"text-align: right;\">\n",
       "      <th></th>\n",
       "      <th>Address</th>\n",
       "      <th>Lot</th>\n",
       "      <th>AM or PM</th>\n",
       "      <th>Browser Info</th>\n",
       "      <th>Company</th>\n",
       "      <th>Credit Card</th>\n",
       "      <th>CC Exp Date</th>\n",
       "      <th>CC Security Code</th>\n",
       "      <th>CC Provider</th>\n",
       "      <th>Email</th>\n",
       "      <th>Job</th>\n",
       "      <th>IP Address</th>\n",
       "      <th>Language</th>\n",
       "      <th>Purchase Price</th>\n",
       "    </tr>\n",
       "  </thead>\n",
       "  <tbody>\n",
       "    <tr>\n",
       "      <th>9990</th>\n",
       "      <td>75731 Molly Springs\\nWest Danielle, VT 96934-5102</td>\n",
       "      <td>93 ty</td>\n",
       "      <td>PM</td>\n",
       "      <td>Mozilla/5.0 (Macintosh; Intel Mac OS X 10_7_4;...</td>\n",
       "      <td>Pace, Vazquez and Richards</td>\n",
       "      <td>869968197049750</td>\n",
       "      <td>04/24</td>\n",
       "      <td>877</td>\n",
       "      <td>JCB 15 digit</td>\n",
       "      <td>andersonmichael@sherman.biz</td>\n",
       "      <td>Early years teacher</td>\n",
       "      <td>54.170.3.185</td>\n",
       "      <td>ru</td>\n",
       "      <td>18.35</td>\n",
       "    </tr>\n",
       "    <tr>\n",
       "      <th>9991</th>\n",
       "      <td>PSC 8165, Box 8498\\nAPO AP 60327-0346</td>\n",
       "      <td>50 dA</td>\n",
       "      <td>AM</td>\n",
       "      <td>Mozilla/5.0 (compatible; MSIE 8.0; Windows NT ...</td>\n",
       "      <td>Snyder Inc</td>\n",
       "      <td>4221582137197481</td>\n",
       "      <td>02/24</td>\n",
       "      <td>969</td>\n",
       "      <td>Voyager</td>\n",
       "      <td>kking@wise-liu.com</td>\n",
       "      <td>IT sales professional</td>\n",
       "      <td>254.25.31.156</td>\n",
       "      <td>el</td>\n",
       "      <td>25.93</td>\n",
       "    </tr>\n",
       "    <tr>\n",
       "      <th>9992</th>\n",
       "      <td>885 Allen Mountains Apt. 230\\nWallhaven, LA 16995</td>\n",
       "      <td>40 vH</td>\n",
       "      <td>PM</td>\n",
       "      <td>Mozilla/5.0 (Macintosh; PPC Mac OS X 10_6_5) A...</td>\n",
       "      <td>Wells Ltd</td>\n",
       "      <td>4664825258997302</td>\n",
       "      <td>10/20</td>\n",
       "      <td>431</td>\n",
       "      <td>Discover</td>\n",
       "      <td>bberry@wright.net</td>\n",
       "      <td>Set designer</td>\n",
       "      <td>174.173.51.32</td>\n",
       "      <td>de</td>\n",
       "      <td>67.96</td>\n",
       "    </tr>\n",
       "    <tr>\n",
       "      <th>9993</th>\n",
       "      <td>7555 Larson Locks Suite 229\\nEllisburgh, MA 34...</td>\n",
       "      <td>72 jg</td>\n",
       "      <td>PM</td>\n",
       "      <td>Mozilla/5.0 (Macintosh; U; Intel Mac OS X 10_8...</td>\n",
       "      <td>Colon and Sons</td>\n",
       "      <td>30025560104631</td>\n",
       "      <td>10/25</td>\n",
       "      <td>629</td>\n",
       "      <td>Maestro</td>\n",
       "      <td>chelseawilliams@lopez.biz</td>\n",
       "      <td>Designer, exhibition/display</td>\n",
       "      <td>177.46.82.128</td>\n",
       "      <td>el</td>\n",
       "      <td>65.61</td>\n",
       "    </tr>\n",
       "    <tr>\n",
       "      <th>9994</th>\n",
       "      <td>6276 Rojas Hollow\\nLake Louis, WY 56410-7837</td>\n",
       "      <td>93 Ex</td>\n",
       "      <td>PM</td>\n",
       "      <td>Opera/9.68.(X11; Linux x86_64; sl-SI) Presto/2...</td>\n",
       "      <td>Ritter-Smith</td>\n",
       "      <td>3112186784121077</td>\n",
       "      <td>01/25</td>\n",
       "      <td>1823</td>\n",
       "      <td>Maestro</td>\n",
       "      <td>iroberts@gmail.com</td>\n",
       "      <td>Education officer, museum</td>\n",
       "      <td>242.44.112.18</td>\n",
       "      <td>zh</td>\n",
       "      <td>31.85</td>\n",
       "    </tr>\n",
       "    <tr>\n",
       "      <th>9995</th>\n",
       "      <td>966 Castaneda Locks\\nWest Juliafurt, CO 96415</td>\n",
       "      <td>92 XI</td>\n",
       "      <td>PM</td>\n",
       "      <td>Mozilla/5.0 (Windows NT 5.1) AppleWebKit/5352 ...</td>\n",
       "      <td>Randall-Sloan</td>\n",
       "      <td>342945015358701</td>\n",
       "      <td>03/22</td>\n",
       "      <td>838</td>\n",
       "      <td>JCB 15 digit</td>\n",
       "      <td>iscott@wade-garner.com</td>\n",
       "      <td>Printmaker</td>\n",
       "      <td>29.73.197.114</td>\n",
       "      <td>it</td>\n",
       "      <td>82.21</td>\n",
       "    </tr>\n",
       "    <tr>\n",
       "      <th>9996</th>\n",
       "      <td>832 Curtis Dam Suite 785\\nNorth Edwardburgh, T...</td>\n",
       "      <td>41 JY</td>\n",
       "      <td>AM</td>\n",
       "      <td>Mozilla/5.0 (compatible; MSIE 9.0; Windows NT ...</td>\n",
       "      <td>Hale, Collins and Wilson</td>\n",
       "      <td>210033169205009</td>\n",
       "      <td>07/25</td>\n",
       "      <td>207</td>\n",
       "      <td>JCB 16 digit</td>\n",
       "      <td>mary85@hotmail.com</td>\n",
       "      <td>Energy engineer</td>\n",
       "      <td>121.133.168.51</td>\n",
       "      <td>pt</td>\n",
       "      <td>25.63</td>\n",
       "    </tr>\n",
       "    <tr>\n",
       "      <th>9997</th>\n",
       "      <td>Unit 4434 Box 6343\\nDPO AE 28026-0283</td>\n",
       "      <td>74 Zh</td>\n",
       "      <td>AM</td>\n",
       "      <td>Mozilla/5.0 (Macintosh; U; Intel Mac OS X 10_7...</td>\n",
       "      <td>Anderson Ltd</td>\n",
       "      <td>6011539787356311</td>\n",
       "      <td>05/21</td>\n",
       "      <td>1</td>\n",
       "      <td>VISA 16 digit</td>\n",
       "      <td>tyler16@gmail.com</td>\n",
       "      <td>Veterinary surgeon</td>\n",
       "      <td>156.210.0.254</td>\n",
       "      <td>el</td>\n",
       "      <td>83.98</td>\n",
       "    </tr>\n",
       "    <tr>\n",
       "      <th>9998</th>\n",
       "      <td>0096 English Rest\\nRoystad, IA 12457</td>\n",
       "      <td>74 cL</td>\n",
       "      <td>PM</td>\n",
       "      <td>Mozilla/5.0 (Macintosh; Intel Mac OS X 10_8_8;...</td>\n",
       "      <td>Cook Inc</td>\n",
       "      <td>180003348082930</td>\n",
       "      <td>11/17</td>\n",
       "      <td>987</td>\n",
       "      <td>American Express</td>\n",
       "      <td>elizabethmoore@reid.net</td>\n",
       "      <td>Local government officer</td>\n",
       "      <td>55.78.26.143</td>\n",
       "      <td>es</td>\n",
       "      <td>38.84</td>\n",
       "    </tr>\n",
       "    <tr>\n",
       "      <th>9999</th>\n",
       "      <td>40674 Barrett Stravenue\\nGrimesville, WI 79682</td>\n",
       "      <td>64 Hr</td>\n",
       "      <td>AM</td>\n",
       "      <td>Mozilla/5.0 (X11; Linux i686; rv:1.9.5.20) Gec...</td>\n",
       "      <td>Greene Inc</td>\n",
       "      <td>4139972901927273</td>\n",
       "      <td>02/19</td>\n",
       "      <td>302</td>\n",
       "      <td>JCB 15 digit</td>\n",
       "      <td>rachelford@vaughn.com</td>\n",
       "      <td>Embryologist, clinical</td>\n",
       "      <td>176.119.198.199</td>\n",
       "      <td>el</td>\n",
       "      <td>67.59</td>\n",
       "    </tr>\n",
       "  </tbody>\n",
       "</table>\n",
       "</div>"
      ],
      "text/plain": [
       "                                                Address    Lot AM or PM  \\\n",
       "9990  75731 Molly Springs\\nWest Danielle, VT 96934-5102  93 ty       PM   \n",
       "9991              PSC 8165, Box 8498\\nAPO AP 60327-0346  50 dA       AM   \n",
       "9992  885 Allen Mountains Apt. 230\\nWallhaven, LA 16995  40 vH       PM   \n",
       "9993  7555 Larson Locks Suite 229\\nEllisburgh, MA 34...  72 jg       PM   \n",
       "9994       6276 Rojas Hollow\\nLake Louis, WY 56410-7837  93 Ex       PM   \n",
       "9995      966 Castaneda Locks\\nWest Juliafurt, CO 96415  92 XI       PM   \n",
       "9996  832 Curtis Dam Suite 785\\nNorth Edwardburgh, T...  41 JY       AM   \n",
       "9997              Unit 4434 Box 6343\\nDPO AE 28026-0283  74 Zh       AM   \n",
       "9998               0096 English Rest\\nRoystad, IA 12457  74 cL       PM   \n",
       "9999     40674 Barrett Stravenue\\nGrimesville, WI 79682  64 Hr       AM   \n",
       "\n",
       "                                           Browser Info  \\\n",
       "9990  Mozilla/5.0 (Macintosh; Intel Mac OS X 10_7_4;...   \n",
       "9991  Mozilla/5.0 (compatible; MSIE 8.0; Windows NT ...   \n",
       "9992  Mozilla/5.0 (Macintosh; PPC Mac OS X 10_6_5) A...   \n",
       "9993  Mozilla/5.0 (Macintosh; U; Intel Mac OS X 10_8...   \n",
       "9994  Opera/9.68.(X11; Linux x86_64; sl-SI) Presto/2...   \n",
       "9995  Mozilla/5.0 (Windows NT 5.1) AppleWebKit/5352 ...   \n",
       "9996  Mozilla/5.0 (compatible; MSIE 9.0; Windows NT ...   \n",
       "9997  Mozilla/5.0 (Macintosh; U; Intel Mac OS X 10_7...   \n",
       "9998  Mozilla/5.0 (Macintosh; Intel Mac OS X 10_8_8;...   \n",
       "9999  Mozilla/5.0 (X11; Linux i686; rv:1.9.5.20) Gec...   \n",
       "\n",
       "                         Company       Credit Card CC Exp Date  \\\n",
       "9990  Pace, Vazquez and Richards   869968197049750       04/24   \n",
       "9991                  Snyder Inc  4221582137197481       02/24   \n",
       "9992                   Wells Ltd  4664825258997302       10/20   \n",
       "9993              Colon and Sons    30025560104631       10/25   \n",
       "9994                Ritter-Smith  3112186784121077       01/25   \n",
       "9995               Randall-Sloan   342945015358701       03/22   \n",
       "9996    Hale, Collins and Wilson   210033169205009       07/25   \n",
       "9997                Anderson Ltd  6011539787356311       05/21   \n",
       "9998                    Cook Inc   180003348082930       11/17   \n",
       "9999                  Greene Inc  4139972901927273       02/19   \n",
       "\n",
       "      CC Security Code       CC Provider                        Email  \\\n",
       "9990               877      JCB 15 digit  andersonmichael@sherman.biz   \n",
       "9991               969           Voyager           kking@wise-liu.com   \n",
       "9992               431          Discover            bberry@wright.net   \n",
       "9993               629           Maestro    chelseawilliams@lopez.biz   \n",
       "9994              1823           Maestro           iroberts@gmail.com   \n",
       "9995               838      JCB 15 digit       iscott@wade-garner.com   \n",
       "9996               207      JCB 16 digit           mary85@hotmail.com   \n",
       "9997                 1     VISA 16 digit            tyler16@gmail.com   \n",
       "9998               987  American Express      elizabethmoore@reid.net   \n",
       "9999               302      JCB 15 digit        rachelford@vaughn.com   \n",
       "\n",
       "                               Job       IP Address Language  Purchase Price  \n",
       "9990           Early years teacher     54.170.3.185       ru           18.35  \n",
       "9991         IT sales professional    254.25.31.156       el           25.93  \n",
       "9992                  Set designer    174.173.51.32       de           67.96  \n",
       "9993  Designer, exhibition/display    177.46.82.128       el           65.61  \n",
       "9994     Education officer, museum    242.44.112.18       zh           31.85  \n",
       "9995                    Printmaker    29.73.197.114       it           82.21  \n",
       "9996               Energy engineer   121.133.168.51       pt           25.63  \n",
       "9997            Veterinary surgeon    156.210.0.254       el           83.98  \n",
       "9998      Local government officer     55.78.26.143       es           38.84  \n",
       "9999        Embryologist, clinical  176.119.198.199       el           67.59  "
      ]
     },
     "execution_count": 6,
     "metadata": {},
     "output_type": "execute_result"
    }
   ],
   "source": [
    "df.tail(10)"
   ]
  },
  {
   "cell_type": "markdown",
   "id": "e3d55793-d8d1-4f0d-bce0-c534c12c5d20",
   "metadata": {},
   "source": [
    "Give the details of transactions happening only in PM"
   ]
  },
  {
   "cell_type": "code",
   "execution_count": 22,
   "id": "2d50c1d4-c9dd-4ede-b737-02d75949a7e1",
   "metadata": {},
   "outputs": [
    {
     "data": {
      "text/html": [
       "<div>\n",
       "<style scoped>\n",
       "    .dataframe tbody tr th:only-of-type {\n",
       "        vertical-align: middle;\n",
       "    }\n",
       "\n",
       "    .dataframe tbody tr th {\n",
       "        vertical-align: top;\n",
       "    }\n",
       "\n",
       "    .dataframe thead th {\n",
       "        text-align: right;\n",
       "    }\n",
       "</style>\n",
       "<table border=\"1\" class=\"dataframe\">\n",
       "  <thead>\n",
       "    <tr style=\"text-align: right;\">\n",
       "      <th></th>\n",
       "      <th>Address</th>\n",
       "      <th>Lot</th>\n",
       "      <th>AM or PM</th>\n",
       "      <th>Browser Info</th>\n",
       "      <th>Company</th>\n",
       "      <th>Credit Card</th>\n",
       "      <th>CC Exp Date</th>\n",
       "      <th>CC Security Code</th>\n",
       "      <th>CC Provider</th>\n",
       "      <th>Email</th>\n",
       "      <th>Job</th>\n",
       "      <th>IP Address</th>\n",
       "      <th>Language</th>\n",
       "      <th>Purchase Price</th>\n",
       "    </tr>\n",
       "  </thead>\n",
       "  <tbody>\n",
       "    <tr>\n",
       "      <th>0</th>\n",
       "      <td>16629 Pace Camp Apt. 448\\nAlexisborough, NE 77...</td>\n",
       "      <td>46 in</td>\n",
       "      <td>PM</td>\n",
       "      <td>Opera/9.56.(X11; Linux x86_64; sl-SI) Presto/2...</td>\n",
       "      <td>Martinez-Herman</td>\n",
       "      <td>6.011929e+15</td>\n",
       "      <td>02/20</td>\n",
       "      <td>900.0</td>\n",
       "      <td>JCB 16 digit</td>\n",
       "      <td>pdunlap@yahoo.com</td>\n",
       "      <td>Scientist, product/process development</td>\n",
       "      <td>149.146.147.205</td>\n",
       "      <td>el</td>\n",
       "      <td>98.14</td>\n",
       "    </tr>\n",
       "    <tr>\n",
       "      <th>1</th>\n",
       "      <td>9374 Jasmine Spurs Suite 508\\nSouth John, TN 8...</td>\n",
       "      <td>28 rn</td>\n",
       "      <td>PM</td>\n",
       "      <td>Opera/8.93.(Windows 98; Win 9x 4.90; en-US) Pr...</td>\n",
       "      <td>Fletcher, Richards and Whitaker</td>\n",
       "      <td>3.337758e+15</td>\n",
       "      <td>11/18</td>\n",
       "      <td>561.0</td>\n",
       "      <td>Mastercard</td>\n",
       "      <td>anthony41@reed.com</td>\n",
       "      <td>Drilling engineer</td>\n",
       "      <td>15.160.41.51</td>\n",
       "      <td>fr</td>\n",
       "      <td>70.73</td>\n",
       "    </tr>\n",
       "    <tr>\n",
       "      <th>2</th>\n",
       "      <td>Unit 0065 Box 5052\\nDPO AP 27450</td>\n",
       "      <td>94 vE</td>\n",
       "      <td>PM</td>\n",
       "      <td>Mozilla/5.0 (compatible; MSIE 9.0; Windows NT ...</td>\n",
       "      <td>Simpson, Williams and Pham</td>\n",
       "      <td>6.759577e+11</td>\n",
       "      <td>08/19</td>\n",
       "      <td>699.0</td>\n",
       "      <td>JCB 16 digit</td>\n",
       "      <td>amymiller@morales-harrison.com</td>\n",
       "      <td>Customer service manager</td>\n",
       "      <td>132.207.160.22</td>\n",
       "      <td>de</td>\n",
       "      <td>0.95</td>\n",
       "    </tr>\n",
       "    <tr>\n",
       "      <th>3</th>\n",
       "      <td>7780 Julia Fords\\nNew Stacy, WA 45798</td>\n",
       "      <td>36 vm</td>\n",
       "      <td>PM</td>\n",
       "      <td>Mozilla/5.0 (Macintosh; Intel Mac OS X 10_8_0 ...</td>\n",
       "      <td>Williams, Marshall and Buchanan</td>\n",
       "      <td>6.011579e+15</td>\n",
       "      <td>02/24</td>\n",
       "      <td>384.0</td>\n",
       "      <td>Discover</td>\n",
       "      <td>brent16@olson-robinson.info</td>\n",
       "      <td>Drilling engineer</td>\n",
       "      <td>30.250.74.19</td>\n",
       "      <td>es</td>\n",
       "      <td>78.04</td>\n",
       "    </tr>\n",
       "    <tr>\n",
       "      <th>4</th>\n",
       "      <td>NaN</td>\n",
       "      <td>NaN</td>\n",
       "      <td>NaN</td>\n",
       "      <td>NaN</td>\n",
       "      <td>NaN</td>\n",
       "      <td>NaN</td>\n",
       "      <td>NaN</td>\n",
       "      <td>NaN</td>\n",
       "      <td>NaN</td>\n",
       "      <td>NaN</td>\n",
       "      <td>NaN</td>\n",
       "      <td>NaN</td>\n",
       "      <td>NaN</td>\n",
       "      <td>NaN</td>\n",
       "    </tr>\n",
       "    <tr>\n",
       "      <th>...</th>\n",
       "      <td>...</td>\n",
       "      <td>...</td>\n",
       "      <td>...</td>\n",
       "      <td>...</td>\n",
       "      <td>...</td>\n",
       "      <td>...</td>\n",
       "      <td>...</td>\n",
       "      <td>...</td>\n",
       "      <td>...</td>\n",
       "      <td>...</td>\n",
       "      <td>...</td>\n",
       "      <td>...</td>\n",
       "      <td>...</td>\n",
       "      <td>...</td>\n",
       "    </tr>\n",
       "    <tr>\n",
       "      <th>9995</th>\n",
       "      <td>966 Castaneda Locks\\nWest Juliafurt, CO 96415</td>\n",
       "      <td>92 XI</td>\n",
       "      <td>PM</td>\n",
       "      <td>Mozilla/5.0 (Windows NT 5.1) AppleWebKit/5352 ...</td>\n",
       "      <td>Randall-Sloan</td>\n",
       "      <td>3.429450e+14</td>\n",
       "      <td>03/22</td>\n",
       "      <td>838.0</td>\n",
       "      <td>JCB 15 digit</td>\n",
       "      <td>iscott@wade-garner.com</td>\n",
       "      <td>Printmaker</td>\n",
       "      <td>29.73.197.114</td>\n",
       "      <td>it</td>\n",
       "      <td>82.21</td>\n",
       "    </tr>\n",
       "    <tr>\n",
       "      <th>9996</th>\n",
       "      <td>NaN</td>\n",
       "      <td>NaN</td>\n",
       "      <td>NaN</td>\n",
       "      <td>NaN</td>\n",
       "      <td>NaN</td>\n",
       "      <td>NaN</td>\n",
       "      <td>NaN</td>\n",
       "      <td>NaN</td>\n",
       "      <td>NaN</td>\n",
       "      <td>NaN</td>\n",
       "      <td>NaN</td>\n",
       "      <td>NaN</td>\n",
       "      <td>NaN</td>\n",
       "      <td>NaN</td>\n",
       "    </tr>\n",
       "    <tr>\n",
       "      <th>9997</th>\n",
       "      <td>NaN</td>\n",
       "      <td>NaN</td>\n",
       "      <td>NaN</td>\n",
       "      <td>NaN</td>\n",
       "      <td>NaN</td>\n",
       "      <td>NaN</td>\n",
       "      <td>NaN</td>\n",
       "      <td>NaN</td>\n",
       "      <td>NaN</td>\n",
       "      <td>NaN</td>\n",
       "      <td>NaN</td>\n",
       "      <td>NaN</td>\n",
       "      <td>NaN</td>\n",
       "      <td>NaN</td>\n",
       "    </tr>\n",
       "    <tr>\n",
       "      <th>9998</th>\n",
       "      <td>0096 English Rest\\nRoystad, IA 12457</td>\n",
       "      <td>74 cL</td>\n",
       "      <td>PM</td>\n",
       "      <td>Mozilla/5.0 (Macintosh; Intel Mac OS X 10_8_8;...</td>\n",
       "      <td>Cook Inc</td>\n",
       "      <td>1.800033e+14</td>\n",
       "      <td>11/17</td>\n",
       "      <td>987.0</td>\n",
       "      <td>American Express</td>\n",
       "      <td>elizabethmoore@reid.net</td>\n",
       "      <td>Local government officer</td>\n",
       "      <td>55.78.26.143</td>\n",
       "      <td>es</td>\n",
       "      <td>38.84</td>\n",
       "    </tr>\n",
       "    <tr>\n",
       "      <th>9999</th>\n",
       "      <td>NaN</td>\n",
       "      <td>NaN</td>\n",
       "      <td>NaN</td>\n",
       "      <td>NaN</td>\n",
       "      <td>NaN</td>\n",
       "      <td>NaN</td>\n",
       "      <td>NaN</td>\n",
       "      <td>NaN</td>\n",
       "      <td>NaN</td>\n",
       "      <td>NaN</td>\n",
       "      <td>NaN</td>\n",
       "      <td>NaN</td>\n",
       "      <td>NaN</td>\n",
       "      <td>NaN</td>\n",
       "    </tr>\n",
       "  </tbody>\n",
       "</table>\n",
       "<p>10000 rows × 14 columns</p>\n",
       "</div>"
      ],
      "text/plain": [
       "                                                Address    Lot AM or PM  \\\n",
       "0     16629 Pace Camp Apt. 448\\nAlexisborough, NE 77...  46 in       PM   \n",
       "1     9374 Jasmine Spurs Suite 508\\nSouth John, TN 8...  28 rn       PM   \n",
       "2                      Unit 0065 Box 5052\\nDPO AP 27450  94 vE       PM   \n",
       "3                 7780 Julia Fords\\nNew Stacy, WA 45798  36 vm       PM   \n",
       "4                                                   NaN    NaN      NaN   \n",
       "...                                                 ...    ...      ...   \n",
       "9995      966 Castaneda Locks\\nWest Juliafurt, CO 96415  92 XI       PM   \n",
       "9996                                                NaN    NaN      NaN   \n",
       "9997                                                NaN    NaN      NaN   \n",
       "9998               0096 English Rest\\nRoystad, IA 12457  74 cL       PM   \n",
       "9999                                                NaN    NaN      NaN   \n",
       "\n",
       "                                           Browser Info  \\\n",
       "0     Opera/9.56.(X11; Linux x86_64; sl-SI) Presto/2...   \n",
       "1     Opera/8.93.(Windows 98; Win 9x 4.90; en-US) Pr...   \n",
       "2     Mozilla/5.0 (compatible; MSIE 9.0; Windows NT ...   \n",
       "3     Mozilla/5.0 (Macintosh; Intel Mac OS X 10_8_0 ...   \n",
       "4                                                   NaN   \n",
       "...                                                 ...   \n",
       "9995  Mozilla/5.0 (Windows NT 5.1) AppleWebKit/5352 ...   \n",
       "9996                                                NaN   \n",
       "9997                                                NaN   \n",
       "9998  Mozilla/5.0 (Macintosh; Intel Mac OS X 10_8_8;...   \n",
       "9999                                                NaN   \n",
       "\n",
       "                              Company   Credit Card CC Exp Date  \\\n",
       "0                     Martinez-Herman  6.011929e+15       02/20   \n",
       "1     Fletcher, Richards and Whitaker  3.337758e+15       11/18   \n",
       "2          Simpson, Williams and Pham  6.759577e+11       08/19   \n",
       "3     Williams, Marshall and Buchanan  6.011579e+15       02/24   \n",
       "4                                 NaN           NaN         NaN   \n",
       "...                               ...           ...         ...   \n",
       "9995                    Randall-Sloan  3.429450e+14       03/22   \n",
       "9996                              NaN           NaN         NaN   \n",
       "9997                              NaN           NaN         NaN   \n",
       "9998                         Cook Inc  1.800033e+14       11/17   \n",
       "9999                              NaN           NaN         NaN   \n",
       "\n",
       "      CC Security Code       CC Provider                           Email  \\\n",
       "0                900.0      JCB 16 digit               pdunlap@yahoo.com   \n",
       "1                561.0        Mastercard              anthony41@reed.com   \n",
       "2                699.0      JCB 16 digit  amymiller@morales-harrison.com   \n",
       "3                384.0          Discover     brent16@olson-robinson.info   \n",
       "4                  NaN               NaN                             NaN   \n",
       "...                ...               ...                             ...   \n",
       "9995             838.0      JCB 15 digit          iscott@wade-garner.com   \n",
       "9996               NaN               NaN                             NaN   \n",
       "9997               NaN               NaN                             NaN   \n",
       "9998             987.0  American Express         elizabethmoore@reid.net   \n",
       "9999               NaN               NaN                             NaN   \n",
       "\n",
       "                                         Job       IP Address Language  \\\n",
       "0     Scientist, product/process development  149.146.147.205       el   \n",
       "1                          Drilling engineer     15.160.41.51       fr   \n",
       "2                   Customer service manager   132.207.160.22       de   \n",
       "3                          Drilling engineer     30.250.74.19       es   \n",
       "4                                        NaN              NaN      NaN   \n",
       "...                                      ...              ...      ...   \n",
       "9995                              Printmaker    29.73.197.114       it   \n",
       "9996                                     NaN              NaN      NaN   \n",
       "9997                                     NaN              NaN      NaN   \n",
       "9998                Local government officer     55.78.26.143       es   \n",
       "9999                                     NaN              NaN      NaN   \n",
       "\n",
       "      Purchase Price  \n",
       "0              98.14  \n",
       "1              70.73  \n",
       "2               0.95  \n",
       "3              78.04  \n",
       "4                NaN  \n",
       "...              ...  \n",
       "9995           82.21  \n",
       "9996             NaN  \n",
       "9997             NaN  \n",
       "9998           38.84  \n",
       "9999             NaN  \n",
       "\n",
       "[10000 rows x 14 columns]"
      ]
     },
     "execution_count": 22,
     "metadata": {},
     "output_type": "execute_result"
    }
   ],
   "source": [
    "df.where(df['AM or PM']=='PM')"
   ]
  },
  {
   "cell_type": "markdown",
   "id": "9ef3eee7-14e0-4829-83fa-5e5b2f1f08a3",
   "metadata": {},
   "source": [
    "Give all the column datatypes"
   ]
  },
  {
   "cell_type": "code",
   "execution_count": 7,
   "id": "b1915ac7-431e-40b7-8a09-fae26ea3c291",
   "metadata": {},
   "outputs": [
    {
     "data": {
      "text/plain": [
       "Address              object\n",
       "Lot                  object\n",
       "AM or PM             object\n",
       "Browser Info         object\n",
       "Company              object\n",
       "Credit Card           int64\n",
       "CC Exp Date          object\n",
       "CC Security Code      int64\n",
       "CC Provider          object\n",
       "Email                object\n",
       "Job                  object\n",
       "IP Address           object\n",
       "Language             object\n",
       "Purchase Price      float64\n",
       "dtype: object"
      ]
     },
     "execution_count": 7,
     "metadata": {},
     "output_type": "execute_result"
    }
   ],
   "source": [
    "df.dtypes"
   ]
  },
  {
   "cell_type": "markdown",
   "id": "efc1322c-e81f-444b-945d-9f9fbd968995",
   "metadata": {},
   "source": [
    "Check if any null value is present oer the dataset"
   ]
  },
  {
   "cell_type": "code",
   "execution_count": 8,
   "id": "ff061166-b42f-4ee2-ba31-c399134e2b6d",
   "metadata": {},
   "outputs": [
    {
     "data": {
      "text/plain": [
       "Address             0\n",
       "Lot                 0\n",
       "AM or PM            0\n",
       "Browser Info        0\n",
       "Company             0\n",
       "Credit Card         0\n",
       "CC Exp Date         0\n",
       "CC Security Code    0\n",
       "CC Provider         0\n",
       "Email               0\n",
       "Job                 0\n",
       "IP Address          0\n",
       "Language            0\n",
       "Purchase Price      0\n",
       "dtype: int64"
      ]
     },
     "execution_count": 8,
     "metadata": {},
     "output_type": "execute_result"
    }
   ],
   "source": [
    "df.isnull().sum()"
   ]
  },
  {
   "cell_type": "markdown",
   "id": "d9770231-f1fa-4faa-a968-73ddc1faad86",
   "metadata": {},
   "source": [
    "Dimensions of the dataset"
   ]
  },
  {
   "cell_type": "code",
   "execution_count": 6,
   "id": "637cdb08-3b7a-491a-a997-680d4911e4fe",
   "metadata": {},
   "outputs": [
    {
     "data": {
      "text/plain": [
       "(10000, 14)"
      ]
     },
     "execution_count": 6,
     "metadata": {},
     "output_type": "execute_result"
    }
   ],
   "source": [
    "df.shape"
   ]
  },
  {
   "cell_type": "markdown",
   "id": "157010cc-1ed9-47ab-8e85-dc3eab4a70e6",
   "metadata": {},
   "source": [
    "No. of columns"
   ]
  },
  {
   "cell_type": "code",
   "execution_count": 9,
   "id": "d044fa24-79a6-4db1-9e6a-4bbb63b59fdc",
   "metadata": {},
   "outputs": [
    {
     "data": {
      "text/plain": [
       "14"
      ]
     },
     "execution_count": 9,
     "metadata": {},
     "output_type": "execute_result"
    }
   ],
   "source": [
    "len(df.columns)"
   ]
  },
  {
   "cell_type": "markdown",
   "id": "9765b1a4-c05d-4752-80e3-ba4dff28f98a",
   "metadata": {},
   "source": [
    "No. of Rows"
   ]
  },
  {
   "cell_type": "code",
   "execution_count": 10,
   "id": "e1307457-d52f-40a9-9622-a8ed6e32817f",
   "metadata": {},
   "outputs": [
    {
     "data": {
      "text/plain": [
       "10000"
      ]
     },
     "execution_count": 10,
     "metadata": {},
     "output_type": "execute_result"
    }
   ],
   "source": [
    "len(df)"
   ]
  },
  {
   "cell_type": "markdown",
   "id": "b9b76d09-cce4-4e69-b5ab-e602146edb71",
   "metadata": {},
   "source": [
    "Overall statistics of the Purchase Price column in the dataset"
   ]
  },
  {
   "cell_type": "code",
   "execution_count": 11,
   "id": "511add34-dac6-406a-bda2-9457e8fa3178",
   "metadata": {},
   "outputs": [
    {
     "data": {
      "text/plain": [
       "count    10000.000000\n",
       "mean        50.347302\n",
       "std         29.015836\n",
       "min          0.000000\n",
       "25%         25.150000\n",
       "50%         50.505000\n",
       "75%         75.770000\n",
       "max         99.990000\n",
       "Name: Purchase Price, dtype: float64"
      ]
     },
     "execution_count": 11,
     "metadata": {},
     "output_type": "execute_result"
    }
   ],
   "source": [
    "df['Purchase Price'].describe()"
   ]
  },
  {
   "cell_type": "markdown",
   "id": "ad33725c-3530-47df-b55c-41a37833cd5f",
   "metadata": {},
   "source": [
    "Details of the complete dataset"
   ]
  },
  {
   "cell_type": "code",
   "execution_count": 11,
   "id": "d4ee4253-4158-4906-a1bd-4072d685c744",
   "metadata": {},
   "outputs": [
    {
     "data": {
      "text/plain": [
       "<bound method DataFrame.info of                                                 Address    Lot AM or PM  \\\n",
       "0     16629 Pace Camp Apt. 448\\nAlexisborough, NE 77...  46 in       PM   \n",
       "1     9374 Jasmine Spurs Suite 508\\nSouth John, TN 8...  28 rn       PM   \n",
       "2                      Unit 0065 Box 5052\\nDPO AP 27450  94 vE       PM   \n",
       "3                 7780 Julia Fords\\nNew Stacy, WA 45798  36 vm       PM   \n",
       "4     23012 Munoz Drive Suite 337\\nNew Cynthia, TX 5...  20 IE       AM   \n",
       "...                                                 ...    ...      ...   \n",
       "9995      966 Castaneda Locks\\nWest Juliafurt, CO 96415  92 XI       PM   \n",
       "9996  832 Curtis Dam Suite 785\\nNorth Edwardburgh, T...  41 JY       AM   \n",
       "9997              Unit 4434 Box 6343\\nDPO AE 28026-0283  74 Zh       AM   \n",
       "9998               0096 English Rest\\nRoystad, IA 12457  74 cL       PM   \n",
       "9999     40674 Barrett Stravenue\\nGrimesville, WI 79682  64 Hr       AM   \n",
       "\n",
       "                                           Browser Info  \\\n",
       "0     Opera/9.56.(X11; Linux x86_64; sl-SI) Presto/2...   \n",
       "1     Opera/8.93.(Windows 98; Win 9x 4.90; en-US) Pr...   \n",
       "2     Mozilla/5.0 (compatible; MSIE 9.0; Windows NT ...   \n",
       "3     Mozilla/5.0 (Macintosh; Intel Mac OS X 10_8_0 ...   \n",
       "4     Opera/9.58.(X11; Linux x86_64; it-IT) Presto/2...   \n",
       "...                                                 ...   \n",
       "9995  Mozilla/5.0 (Windows NT 5.1) AppleWebKit/5352 ...   \n",
       "9996  Mozilla/5.0 (compatible; MSIE 9.0; Windows NT ...   \n",
       "9997  Mozilla/5.0 (Macintosh; U; Intel Mac OS X 10_7...   \n",
       "9998  Mozilla/5.0 (Macintosh; Intel Mac OS X 10_8_8;...   \n",
       "9999  Mozilla/5.0 (X11; Linux i686; rv:1.9.5.20) Gec...   \n",
       "\n",
       "                              Company       Credit Card CC Exp Date  \\\n",
       "0                     Martinez-Herman  6011929061123406       02/20   \n",
       "1     Fletcher, Richards and Whitaker  3337758169645356       11/18   \n",
       "2          Simpson, Williams and Pham      675957666125       08/19   \n",
       "3     Williams, Marshall and Buchanan  6011578504430710       02/24   \n",
       "4           Brown, Watson and Andrews  6011456623207998       10/25   \n",
       "...                               ...               ...         ...   \n",
       "9995                    Randall-Sloan   342945015358701       03/22   \n",
       "9996         Hale, Collins and Wilson   210033169205009       07/25   \n",
       "9997                     Anderson Ltd  6011539787356311       05/21   \n",
       "9998                         Cook Inc   180003348082930       11/17   \n",
       "9999                       Greene Inc  4139972901927273       02/19   \n",
       "\n",
       "      CC Security Code                  CC Provider  \\\n",
       "0                  900                 JCB 16 digit   \n",
       "1                  561                   Mastercard   \n",
       "2                  699                 JCB 16 digit   \n",
       "3                  384                     Discover   \n",
       "4                  678  Diners Club / Carte Blanche   \n",
       "...                ...                          ...   \n",
       "9995               838                 JCB 15 digit   \n",
       "9996               207                 JCB 16 digit   \n",
       "9997                 1                VISA 16 digit   \n",
       "9998               987             American Express   \n",
       "9999               302                 JCB 15 digit   \n",
       "\n",
       "                               Email                                     Job  \\\n",
       "0                  pdunlap@yahoo.com  Scientist, product/process development   \n",
       "1                 anthony41@reed.com                       Drilling engineer   \n",
       "2     amymiller@morales-harrison.com                Customer service manager   \n",
       "3        brent16@olson-robinson.info                       Drilling engineer   \n",
       "4        christopherwright@gmail.com                             Fine artist   \n",
       "...                              ...                                     ...   \n",
       "9995          iscott@wade-garner.com                              Printmaker   \n",
       "9996              mary85@hotmail.com                         Energy engineer   \n",
       "9997               tyler16@gmail.com                      Veterinary surgeon   \n",
       "9998         elizabethmoore@reid.net                Local government officer   \n",
       "9999           rachelford@vaughn.com                  Embryologist, clinical   \n",
       "\n",
       "           IP Address Language  Purchase Price  \n",
       "0     149.146.147.205       el           98.14  \n",
       "1        15.160.41.51       fr           70.73  \n",
       "2      132.207.160.22       de            0.95  \n",
       "3        30.250.74.19       es           78.04  \n",
       "4        24.140.33.94       es           77.82  \n",
       "...               ...      ...             ...  \n",
       "9995    29.73.197.114       it           82.21  \n",
       "9996   121.133.168.51       pt           25.63  \n",
       "9997    156.210.0.254       el           83.98  \n",
       "9998     55.78.26.143       es           38.84  \n",
       "9999  176.119.198.199       el           67.59  \n",
       "\n",
       "[10000 rows x 14 columns]>"
      ]
     },
     "execution_count": 11,
     "metadata": {},
     "output_type": "execute_result"
    }
   ],
   "source": [
    "df.info"
   ]
  },
  {
   "cell_type": "markdown",
   "id": "0ab5ef1a-0447-40b6-93ab-3d750f0f80cf",
   "metadata": {},
   "source": [
    "Max purchase price"
   ]
  },
  {
   "cell_type": "code",
   "execution_count": 12,
   "id": "f4c87b44-372e-41bf-ac9d-18dcbb5e7d52",
   "metadata": {},
   "outputs": [
    {
     "data": {
      "text/plain": [
       "99.99"
      ]
     },
     "execution_count": 12,
     "metadata": {},
     "output_type": "execute_result"
    }
   ],
   "source": [
    "df['Purchase Price'].max()"
   ]
  },
  {
   "cell_type": "markdown",
   "id": "4dc2dc1b-b5a7-4507-a219-2c79e0f5e0d8",
   "metadata": {},
   "source": [
    "Min purchase price"
   ]
  },
  {
   "cell_type": "code",
   "execution_count": 13,
   "id": "2e984e65-6f3b-4e8c-a52a-ae5f31badf2e",
   "metadata": {},
   "outputs": [
    {
     "data": {
      "text/plain": [
       "0.0"
      ]
     },
     "execution_count": 13,
     "metadata": {},
     "output_type": "execute_result"
    }
   ],
   "source": [
    "df['Purchase Price'].min()"
   ]
  },
  {
   "cell_type": "markdown",
   "id": "adbe1d01-df52-4ee2-9fef-0b7c60c8470e",
   "metadata": {},
   "source": [
    "Avg Purchase price"
   ]
  },
  {
   "cell_type": "code",
   "execution_count": 14,
   "id": "ae9d7fa4-1f6c-401d-b19d-d4f7e9638478",
   "metadata": {},
   "outputs": [
    {
     "data": {
      "text/plain": [
       "50.347302"
      ]
     },
     "execution_count": 14,
     "metadata": {},
     "output_type": "execute_result"
    }
   ],
   "source": [
    "df['Purchase Price'].mean()"
   ]
  },
  {
   "cell_type": "markdown",
   "id": "f07e1c04-4dd5-407f-b85a-12acaa50e804",
   "metadata": {},
   "source": [
    "Average purchase price of lawyers"
   ]
  },
  {
   "cell_type": "code",
   "execution_count": 16,
   "id": "1f99ee80-46e3-4c42-94d5-8bda5977e935",
   "metadata": {},
   "outputs": [
    {
     "data": {
      "text/plain": [
       "53.46166666666666"
      ]
     },
     "execution_count": 16,
     "metadata": {},
     "output_type": "execute_result"
    }
   ],
   "source": [
    "df[df['Job']=='Lawyer']['Purchase Price'].mean()"
   ]
  },
  {
   "cell_type": "markdown",
   "id": "6bf822df-b265-426f-866b-35f2522210bb",
   "metadata": {},
   "source": [
    "No. of people having French as their language"
   ]
  },
  {
   "cell_type": "code",
   "execution_count": 20,
   "id": "cf709c6d-7d7f-4fd4-b8c3-1dcb04e98d42",
   "metadata": {},
   "outputs": [
    {
     "data": {
      "text/plain": [
       "1097"
      ]
     },
     "execution_count": 20,
     "metadata": {},
     "output_type": "execute_result"
    }
   ],
   "source": [
    "len(df[df['Language']=='fr'])"
   ]
  },
  {
   "cell_type": "markdown",
   "id": "8c2a65b5-5664-45a8-be54-ba4f78aa72dd",
   "metadata": {},
   "source": [
    "Number of unique job titles"
   ]
  },
  {
   "cell_type": "code",
   "execution_count": 13,
   "id": "cf755567-5d35-481b-8933-7ffdbf7c93e3",
   "metadata": {},
   "outputs": [
    {
     "data": {
      "text/plain": [
       "623"
      ]
     },
     "execution_count": 13,
     "metadata": {},
     "output_type": "execute_result"
    }
   ],
   "source": [
    "df['Job'].nunique()"
   ]
  },
  {
   "cell_type": "markdown",
   "id": "8295164c-79ac-4103-9f29-ae815d41a1e5",
   "metadata": {},
   "source": [
    "Top 5 most common jobs"
   ]
  },
  {
   "cell_type": "code",
   "execution_count": 15,
   "id": "4f966222-9e25-46d4-9bfb-0159d468d72f",
   "metadata": {},
   "outputs": [
    {
     "data": {
      "text/plain": [
       "Job\n",
       "Interior and spatial designer    31\n",
       "Lawyer                           30\n",
       "Social researcher                28\n",
       "Purchasing manager               27\n",
       "Designer, jewellery              27\n",
       "Name: count, dtype: int64"
      ]
     },
     "execution_count": 15,
     "metadata": {},
     "output_type": "execute_result"
    }
   ],
   "source": [
    "df['Job'].value_counts().head()"
   ]
  },
  {
   "cell_type": "markdown",
   "id": "3735aa76-cd88-4f7f-9727-783e25f14ee8",
   "metadata": {},
   "source": [
    "Job titles that contain Engineer"
   ]
  },
  {
   "cell_type": "code",
   "execution_count": 22,
   "id": "d8710dd2-0e25-4a7b-a6f4-7c5a2238b568",
   "metadata": {},
   "outputs": [
    {
     "data": {
      "text/plain": [
       "984"
      ]
     },
     "execution_count": 22,
     "metadata": {},
     "output_type": "execute_result"
    }
   ],
   "source": [
    "len(df[df['Job'].str.contains('engineer', case=False)])"
   ]
  },
  {
   "cell_type": "markdown",
   "id": "6c4afd10-68c2-4bfc-8815-be4ebd99b4d0",
   "metadata": {},
   "source": [
    "To find email of the person with the given IP address: 132.207.160.22"
   ]
  },
  {
   "cell_type": "code",
   "execution_count": 25,
   "id": "d34692c7-ad50-460f-a1d5-30a6d1dd98cf",
   "metadata": {},
   "outputs": [
    {
     "data": {
      "text/plain": [
       "2    amymiller@morales-harrison.com\n",
       "Name: Email, dtype: object"
      ]
     },
     "execution_count": 25,
     "metadata": {},
     "output_type": "execute_result"
    }
   ],
   "source": [
    "df[df['IP Address']==\"132.207.160.22\"]['Email']"
   ]
  },
  {
   "cell_type": "markdown",
   "id": "97367d8f-7568-4be5-837e-4d0240205394",
   "metadata": {},
   "source": [
    "No. of customers who paid through a Mastercard and their purchase price was above 50"
   ]
  },
  {
   "cell_type": "code",
   "execution_count": 31,
   "id": "1a74bf06-7182-474d-94af-01d4fa6cf02f",
   "metadata": {},
   "outputs": [
    {
     "data": {
      "text/plain": [
       "405"
      ]
     },
     "execution_count": 31,
     "metadata": {},
     "output_type": "execute_result"
    }
   ],
   "source": [
    "len(df[(df['CC Provider']==\"Mastercard\") & (df['Purchase Price']>50)])"
   ]
  },
  {
   "cell_type": "code",
   "execution_count": 32,
   "id": "5716c5b6-6ec0-40d3-ae60-e405a60d327f",
   "metadata": {},
   "outputs": [
    {
     "data": {
      "text/plain": [
       "Address             405\n",
       "Lot                 405\n",
       "AM or PM            405\n",
       "Browser Info        405\n",
       "Company             405\n",
       "Credit Card         405\n",
       "CC Exp Date         405\n",
       "CC Security Code    405\n",
       "CC Provider         405\n",
       "Email               405\n",
       "Job                 405\n",
       "IP Address          405\n",
       "Language            405\n",
       "Purchase Price      405\n",
       "dtype: int64"
      ]
     },
     "execution_count": 32,
     "metadata": {},
     "output_type": "execute_result"
    }
   ],
   "source": [
    "df[(df['CC Provider']==\"Mastercard\") & (df['Purchase Price']>50)].count()"
   ]
  },
  {
   "cell_type": "markdown",
   "id": "0ac7bc55-7d51-4e95-9347-8170d6fc547a",
   "metadata": {},
   "source": [
    "Print the email of the person with the credit card number: \"4664825258997302\""
   ]
  },
  {
   "cell_type": "code",
   "execution_count": 37,
   "id": "877e21fb-7051-45ef-a945-f632d0240eb8",
   "metadata": {},
   "outputs": [
    {
     "data": {
      "text/plain": [
       "9992    bberry@wright.net\n",
       "Name: Email, dtype: object"
      ]
     },
     "execution_count": 37,
     "metadata": {},
     "output_type": "execute_result"
    }
   ],
   "source": [
    "df[df['Credit Card']==4664825258997302]['Email']"
   ]
  },
  {
   "cell_type": "markdown",
   "id": "85107b49-fe59-42a1-95e1-31f127dc4bb6",
   "metadata": {},
   "source": [
    "No of people who purchase during AM or PM repectively"
   ]
  },
  {
   "cell_type": "code",
   "execution_count": 39,
   "id": "82abe834-d06e-432e-b136-2685d7da96ca",
   "metadata": {},
   "outputs": [
    {
     "data": {
      "text/plain": [
       "AM or PM\n",
       "PM    5068\n",
       "AM    4932\n",
       "Name: count, dtype: int64"
      ]
     },
     "execution_count": 39,
     "metadata": {},
     "output_type": "execute_result"
    }
   ],
   "source": [
    "df['AM or PM'].value_counts()"
   ]
  },
  {
   "cell_type": "markdown",
   "id": "0574e8dd-8c04-454a-926a-a6264698b75e",
   "metadata": {},
   "source": [
    "How many people have a credit card exiring in 2020"
   ]
  },
  {
   "cell_type": "code",
   "execution_count": 41,
   "id": "8d4eb701-4d13-4e8a-8f31-825104b61648",
   "metadata": {},
   "outputs": [
    {
     "data": {
      "text/plain": [
       "0       02/20\n",
       "1       11/18\n",
       "2       08/19\n",
       "3       02/24\n",
       "4       10/25\n",
       "        ...  \n",
       "9995    03/22\n",
       "9996    07/25\n",
       "9997    05/21\n",
       "9998    11/17\n",
       "9999    02/19\n",
       "Name: CC Exp Date, Length: 10000, dtype: object"
      ]
     },
     "execution_count": 41,
     "metadata": {},
     "output_type": "execute_result"
    }
   ],
   "source": [
    "df[\"CC Exp Date\"]"
   ]
  },
  {
   "cell_type": "code",
   "execution_count": 56,
   "id": "bebeaf1d-770e-4fe2-8005-7266a5d2ed59",
   "metadata": {},
   "outputs": [],
   "source": [
    "def func():\n",
    "    count=0\n",
    "    for date in df['CC Exp Date']:\n",
    "        if date.split('/')[1]=='20':\n",
    "            count=count+1\n",
    "    print(count)"
   ]
  },
  {
   "cell_type": "code",
   "execution_count": 57,
   "id": "d497e4f0-53a4-4eab-bec9-6160b880bdc3",
   "metadata": {},
   "outputs": [
    {
     "name": "stdout",
     "output_type": "stream",
     "text": [
      "988\n"
     ]
    }
   ],
   "source": [
    "func()"
   ]
  },
  {
   "cell_type": "code",
   "execution_count": 61,
   "id": "9f49b55b-8dcc-42df-92d4-63bd68f463e2",
   "metadata": {},
   "outputs": [
    {
     "data": {
      "text/plain": [
       "988"
      ]
     },
     "execution_count": 61,
     "metadata": {},
     "output_type": "execute_result"
    }
   ],
   "source": [
    "len(df[df['CC Exp Date'].apply(lambda x: x.split('/')[1] == '20')])"
   ]
  },
  {
   "cell_type": "markdown",
   "id": "f514c889-7467-4762-bace-c38841ae1317",
   "metadata": {},
   "source": [
    "Top 5 email providers"
   ]
  },
  {
   "cell_type": "code",
   "execution_count": 66,
   "id": "f740e83b-ece5-44e1-a008-3bc1860a4e2d",
   "metadata": {},
   "outputs": [
    {
     "data": {
      "text/plain": [
       "Email\n",
       "hotmail.com     1638\n",
       "yahoo.com       1616\n",
       "gmail.com       1605\n",
       "smith.com         42\n",
       "williams.com      37\n",
       "Name: count, dtype: int64"
      ]
     },
     "execution_count": 66,
     "metadata": {},
     "output_type": "execute_result"
    }
   ],
   "source": [
    "df['Email'].apply(lambda x: x.split('@')[1]).value_counts().head()"
   ]
  },
  {
   "cell_type": "markdown",
   "id": "401ffbab-1948-40ca-85ea-722b96fa57f9",
   "metadata": {},
   "source": [
    "Display email of the person with highest purchase price"
   ]
  },
  {
   "cell_type": "code",
   "execution_count": 18,
   "id": "b5fafe6a-5eff-4d41-b4d6-2fd96ad5714f",
   "metadata": {},
   "outputs": [
    {
     "data": {
      "text/plain": [
       "2092    heatherwoodard@lloyd.com\n",
       "7807           kelli72@gmail.com\n",
       "Name: Email, dtype: object"
      ]
     },
     "execution_count": 18,
     "metadata": {},
     "output_type": "execute_result"
    }
   ],
   "source": [
    "df[df['Purchase Price'].max()==df['Purchase Price']]['Email']"
   ]
  },
  {
   "cell_type": "code",
   "execution_count": null,
   "id": "72b93312-fa75-4607-b8d4-fd57864362a6",
   "metadata": {},
   "outputs": [],
   "source": []
  }
 ],
 "metadata": {
  "kernelspec": {
   "display_name": "Python 3 (ipykernel)",
   "language": "python",
   "name": "python3"
  },
  "language_info": {
   "codemirror_mode": {
    "name": "ipython",
    "version": 3
   },
   "file_extension": ".py",
   "mimetype": "text/x-python",
   "name": "python",
   "nbconvert_exporter": "python",
   "pygments_lexer": "ipython3",
   "version": "3.12.7"
  }
 },
 "nbformat": 4,
 "nbformat_minor": 5
}
